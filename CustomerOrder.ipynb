{
 "cells": [
  {
   "cell_type": "markdown",
   "id": "5bbb6c61",
   "metadata": {},
   "source": [
    "### Case Study #2\n",
    "\n",
    "priyankamohanrao.nigade@pace.edu"
   ]
  },
  {
   "cell_type": "code",
   "execution_count": 1,
   "id": "7193aada",
   "metadata": {},
   "outputs": [],
   "source": [
    "import pandas as pd\n",
    "import matplotlib.pyplot as plt\n",
    "import seaborn as sns\n",
    "import plotly.express as px"
   ]
  },
  {
   "cell_type": "code",
   "execution_count": 2,
   "id": "d1bd23e5",
   "metadata": {},
   "outputs": [
    {
     "name": "stdout",
     "output_type": "stream",
     "text": [
      "(685927, 4)\n"
     ]
    },
    {
     "data": {
      "text/html": [
       "<div>\n",
       "<style scoped>\n",
       "    .dataframe tbody tr th:only-of-type {\n",
       "        vertical-align: middle;\n",
       "    }\n",
       "\n",
       "    .dataframe tbody tr th {\n",
       "        vertical-align: top;\n",
       "    }\n",
       "\n",
       "    .dataframe thead th {\n",
       "        text-align: right;\n",
       "    }\n",
       "</style>\n",
       "<table border=\"1\" class=\"dataframe\">\n",
       "  <thead>\n",
       "    <tr style=\"text-align: right;\">\n",
       "      <th></th>\n",
       "      <th>Unnamed: 0</th>\n",
       "      <th>customer_email</th>\n",
       "      <th>net_revenue</th>\n",
       "      <th>year</th>\n",
       "    </tr>\n",
       "  </thead>\n",
       "  <tbody>\n",
       "    <tr>\n",
       "      <th>0</th>\n",
       "      <td>0</td>\n",
       "      <td>nhknapwsbx@gmail.com</td>\n",
       "      <td>249.92</td>\n",
       "      <td>2015</td>\n",
       "    </tr>\n",
       "    <tr>\n",
       "      <th>1</th>\n",
       "      <td>1</td>\n",
       "      <td>joiuzbvcpn@gmail.com</td>\n",
       "      <td>87.61</td>\n",
       "      <td>2015</td>\n",
       "    </tr>\n",
       "    <tr>\n",
       "      <th>2</th>\n",
       "      <td>2</td>\n",
       "      <td>ukkjctepxt@gmail.com</td>\n",
       "      <td>168.38</td>\n",
       "      <td>2015</td>\n",
       "    </tr>\n",
       "    <tr>\n",
       "      <th>3</th>\n",
       "      <td>3</td>\n",
       "      <td>gykatilzrt@gmail.com</td>\n",
       "      <td>62.40</td>\n",
       "      <td>2015</td>\n",
       "    </tr>\n",
       "    <tr>\n",
       "      <th>4</th>\n",
       "      <td>4</td>\n",
       "      <td>mmsgsrtxah@gmail.com</td>\n",
       "      <td>43.08</td>\n",
       "      <td>2015</td>\n",
       "    </tr>\n",
       "  </tbody>\n",
       "</table>\n",
       "</div>"
      ],
      "text/plain": [
       "   Unnamed: 0         customer_email  net_revenue  year\n",
       "0           0   nhknapwsbx@gmail.com       249.92  2015\n",
       "1           1   joiuzbvcpn@gmail.com        87.61  2015\n",
       "2           2   ukkjctepxt@gmail.com       168.38  2015\n",
       "3           3   gykatilzrt@gmail.com        62.40  2015\n",
       "4           4   mmsgsrtxah@gmail.com        43.08  2015"
      ]
     },
     "execution_count": 2,
     "metadata": {},
     "output_type": "execute_result"
    }
   ],
   "source": [
    "# Loading the data into Data Frame\n",
    "\n",
    "customer_order_df = pd.read_csv('casestudy.csv', index_col=False)\n",
    "print(customer_order_df.shape)\n",
    "customer_order_df.head()"
   ]
  },
  {
   "cell_type": "code",
   "execution_count": 3,
   "id": "1b7b898d",
   "metadata": {},
   "outputs": [],
   "source": [
    "customer_order_df.drop('Unnamed: 0', axis=1, inplace=True)\n"
   ]
  },
  {
   "cell_type": "markdown",
   "id": "7b6c9631",
   "metadata": {},
   "source": [
    "There is 1 dataset(csv) with 3 years worth of customer orders. There are 4 columns in the csv dataset: <br>\n",
    "index, CUSTOMER_EMAIL(unique identifier as hash), Net_Revenue, and Year. <br>\n",
    "For each year we need the following information:\n"
   ]
  },
  {
   "cell_type": "markdown",
   "id": "3a9b7c79",
   "metadata": {},
   "source": [
    "### Total revenue for the current year"
   ]
  },
  {
   "cell_type": "code",
   "execution_count": 4,
   "id": "701a8b79",
   "metadata": {},
   "outputs": [
    {
     "name": "stdout",
     "output_type": "stream",
     "text": [
      "We have 249987 records for resent year 2017\n",
      "\n",
      "Total Revenue for year 2017: 31417495.030000016\n"
     ]
    }
   ],
   "source": [
    "# As there is no data for current year 2022 \n",
    "# so I took most recennt year from dataset as current year to calculate the total revenue \n",
    "num_of_recent_year_records = len(customer_order_df[customer_order_df['year'] == max(customer_order_df['year'])]['net_revenue'])\n",
    "print(f'We have {num_of_recent_year_records} records for resent year {max(customer_order_df[\"year\"])}')\n",
    "\n",
    "\n",
    "total_revenue = customer_order_df[customer_order_df['year'] == max(customer_order_df['year'])]['net_revenue'].sum()\n",
    "print(f'\\nTotal Revenue for year {max(customer_order_df[\"year\"])}: {total_revenue}')\n",
    "\n"
   ]
  },
  {
   "cell_type": "code",
   "execution_count": 37,
   "id": "08895237",
   "metadata": {},
   "outputs": [
    {
     "name": "stdout",
     "output_type": "stream",
     "text": [
      "\n",
      " Total Revenues per year: \n",
      "\n",
      "year\n",
      "2015    29036749.19\n",
      "2016    25730943.59\n",
      "2017    31417495.03\n",
      "Name: net_revenue, dtype: float64\n"
     ]
    }
   ],
   "source": [
    "# total revenue per year\n",
    "print(f'\\n Total Revenues per year: \\n')\n",
    "print(customer_order_df.groupby('year')['net_revenue'].sum())\n"
   ]
  },
  {
   "cell_type": "markdown",
   "id": "e38a416f",
   "metadata": {},
   "source": [
    "### New Customer Revenue e.g. new customers not present in previous year only"
   ]
  },
  {
   "cell_type": "code",
   "execution_count": 6,
   "id": "8a2a8dae",
   "metadata": {},
   "outputs": [
    {
     "name": "stdout",
     "output_type": "stream",
     "text": [
      "Year 2015 New Customer Revenue: 29036749.189999994\n",
      "Year 2016 New Customer Revenue: 18245491.01\n",
      "Year 2017 New Customer Revenue: 28776235.039999995\n"
     ]
    }
   ],
   "source": [
    "unique_years = customer_order_df['year'].unique()\n",
    "new_customers_revenue = {}\n",
    "\n",
    "for i in range(customer_order_df['year'].nunique()):\n",
    "    new_customers_revenue[unique_years[i]] = 0\n",
    "    \n",
    "for i in range(customer_order_df['year'].nunique()):\n",
    "    #print(unique_years[i])\n",
    "    #skip for first year as all will be new customers\n",
    "    if i == 0:\n",
    "        revenue = customer_order_df[customer_order_df['year'] == unique_years[i]]['net_revenue'].sum()\n",
    "        print(f\"Year {unique_years[i]} New Customer Revenue: {revenue}\")\n",
    "    else:\n",
    "        # Previous year\n",
    "        revenue_df_pre_year = customer_order_df[customer_order_df['year'] == unique_years[i-1]]\n",
    "        # Current year\n",
    "        revenue_df_current_year = customer_order_df[customer_order_df['year'] == unique_years[i]]\n",
    "        merged_df = revenue_df_current_year.merge(revenue_df_pre_year, on='customer_email', how='left')\n",
    "        # print(merged_df)\n",
    "        # net_revenue_x represents a current year new customers which not present in previous year\n",
    "        revenue = merged_df[merged_df['year_y'].isnull() == True]['net_revenue_x'].sum()\n",
    "        print(f\"Year {unique_years[i]} New Customer Revenue: {revenue}\")\n",
    "        #print(merged_df[merged_df['year_y'].isnull() == True]['net_revenue_x'].sum())\n",
    "        "
   ]
  },
  {
   "cell_type": "markdown",
   "id": "74a25587",
   "metadata": {},
   "source": [
    "### Existing Customer Growth \n",
    "To calculate this, use the Revenue of existing customers for current year –(minus) Revenue of existing customers from the previous year"
   ]
  },
  {
   "cell_type": "code",
   "execution_count": 7,
   "id": "d9fc872b",
   "metadata": {},
   "outputs": [
    {
     "name": "stdout",
     "output_type": "stream",
     "text": [
      "Existing Customer Growth for Year 2015 : 29036749.189999994\n",
      "Existing Customer Growth for Year 2016 : 20335.459999999985\n",
      "Existing Customer Growth for Year 2017 : 20611.340000000004\n"
     ]
    }
   ],
   "source": [
    "unique_years = customer_order_df['year'].unique()\n",
    "\n",
    "for i in range(customer_order_df['year'].nunique()):\n",
    "    #skip for first year as all will be new customers\n",
    "    if i == 0:\n",
    "        revenue = customer_order_df[customer_order_df['year'] == unique_years[i]]['net_revenue'].sum()\n",
    "        print(f\"Existing Customer Growth for Year {unique_years[i]} : {revenue}\")\n",
    "    else:\n",
    "        # Previous year\n",
    "        revenue_df_pre_year = customer_order_df[customer_order_df['year'] == unique_years[i-1]]\n",
    "        \n",
    "        # Current year\n",
    "        revenue_df_current_year = customer_order_df[customer_order_df['year'] == unique_years[i]]\n",
    "        merged_df = revenue_df_current_year.merge(revenue_df_pre_year, on='customer_email', how='inner')\n",
    "        # print(merged_df)\n",
    "        # net_revenue_x represents a current year and net_revenue_y for previous year revenue for each existing customer\n",
    "        revenue = (merged_df[merged_df['year_y'].isnull() == False]['net_revenue_x'] - \n",
    "                        merged_df[merged_df['year_y'].isnull() == False]['net_revenue_y']).sum()\n",
    "        print(f\"Existing Customer Growth for Year {unique_years[i]} : {revenue}\")\n",
    "        "
   ]
  },
  {
   "cell_type": "markdown",
   "id": "e674134b",
   "metadata": {},
   "source": [
    "### Revenue lost from attrition\n",
    "https://smallbusiness.chron.com/calculate-revenue-attrition-79349.html\n",
    "Formula:\n",
    "The formula for revenue attrition is beginning period reoccurring revenue minus end-of-period reoccurring revenue, less any new revenue gained, divided by beginning period revenue."
   ]
  },
  {
   "cell_type": "code",
   "execution_count": 8,
   "id": "0f440954",
   "metadata": {},
   "outputs": [
    {
     "name": "stdout",
     "output_type": "stream",
     "text": [
      "No Revenue lost from attrition for Year 2015\n",
      "Revenue lost from attrition for Year 2016 : 11.45%\n",
      "Revenue lost from attrition for Year 2017 : -22.02%\n"
     ]
    }
   ],
   "source": [
    "# Not sure which factor is affecting the attrition, \n",
    "# might need more information in the dataset to calculate Revenue lost from attrition\n",
    "\n",
    "unique_years = customer_order_df['year'].unique()\n",
    "\n",
    "for i in range(customer_order_df['year'].nunique()):\n",
    "    #skip for first year as all will be new customers\n",
    "    if i == 0:\n",
    "        print(f\"No Revenue lost from attrition for Year {unique_years[i]}\")\n",
    "    else:\n",
    "        # Previous year\n",
    "        revenue_df_pre_year = customer_order_df[customer_order_df['year'] == unique_years[i-1]]\n",
    "        pre_year_total_revenue = revenue_df_pre_year['net_revenue'].sum()\n",
    "        # Current year\n",
    "        revenue_df_current_year = customer_order_df[customer_order_df['year'] == unique_years[i]]\n",
    "       \n",
    "        ## get lost customers revenue\n",
    "        merged_df = revenue_df_pre_year.merge(revenue_df_current_year, on='customer_email', how='left')\n",
    "        # print(merged_df)\n",
    "        # net_revenue_x represents a previous year customer revenue \n",
    "        # if year_y is null then that customer is not present in current year\n",
    "        lost_cust_revenue = merged_df[merged_df['year_y'].isnull() == True]['net_revenue_x'].sum()\n",
    "        \n",
    "        # get new customers revenue\n",
    "        merged_df = revenue_df_current_year.merge(revenue_df_pre_year, on='customer_email', how='left')\n",
    "        # print(merged_df)\n",
    "        # net_revenue_x represents a current year new customers which not present in previous year\n",
    "        new_cust_revenue = merged_df[merged_df['year_y'].isnull() == True]['net_revenue_x'].sum()\n",
    "        revenue_attrition = round(((lost_cust_revenue - new_cust_revenue)/pre_year_total_revenue)* 100,2)\n",
    "        print(f\"Revenue lost from attrition for Year {unique_years[i]} : {revenue_attrition}%\")\n",
    "        \n"
   ]
  },
  {
   "cell_type": "markdown",
   "id": "ca12c8af",
   "metadata": {},
   "source": [
    "### Existing Customer Revenue Current Year"
   ]
  },
  {
   "cell_type": "code",
   "execution_count": 9,
   "id": "2ea3920a",
   "metadata": {},
   "outputs": [
    {
     "name": "stdout",
     "output_type": "stream",
     "text": [
      "Existing Customer Revenue for Year 2015 : 29036749.189999994\n",
      "Existing Customer Revenue for Year 2016 : 7485452.58\n",
      "Existing Customer Revenue for Year 2017 : 2641259.99\n"
     ]
    }
   ],
   "source": [
    "unique_years = customer_order_df['year'].unique()\n",
    "\n",
    "for i in range(customer_order_df['year'].nunique()):\n",
    "    #skip for first year as all will be new customers\n",
    "    if i == 0:\n",
    "        revenue = customer_order_df[customer_order_df['year'] == unique_years[i]]['net_revenue'].sum()\n",
    "        print(f\"Existing Customer Revenue for Year {unique_years[i]} : {revenue}\")\n",
    "    else:\n",
    "        # Previous year\n",
    "        revenue_df_pre_year = customer_order_df[customer_order_df['year'] == unique_years[i-1]]\n",
    "        \n",
    "        # Current year\n",
    "        revenue_df_current_year = customer_order_df[customer_order_df['year'] == unique_years[i]]\n",
    "        merged_df = revenue_df_current_year.merge(revenue_df_pre_year, on='customer_email', how='inner')\n",
    "        # print(merged_df)\n",
    "        # net_revenue_x represents a current year revenue for each existing customer\n",
    "        revenue = (merged_df[merged_df['year_y'].isnull() == False]['net_revenue_x']).sum()\n",
    "        print(f\"Existing Customer Revenue for Year {unique_years[i]} : {revenue}\")\n",
    "        "
   ]
  },
  {
   "cell_type": "code",
   "execution_count": null,
   "id": "0470d857",
   "metadata": {},
   "outputs": [],
   "source": []
  },
  {
   "cell_type": "markdown",
   "id": "15e50719",
   "metadata": {},
   "source": [
    "### Existing Customer Revenue Prior Year"
   ]
  },
  {
   "cell_type": "code",
   "execution_count": 10,
   "id": "2501048c",
   "metadata": {},
   "outputs": [
    {
     "name": "stdout",
     "output_type": "stream",
     "text": [
      "Existing Customer Revenue for Prior Year 2014 : 0\n",
      "Existing Customer Revenue for Prior Year 2015 : 7465117.12\n",
      "Existing Customer Revenue for Prior Year 2016 : 2620648.65\n"
     ]
    }
   ],
   "source": [
    "unique_years = customer_order_df['year'].unique()\n",
    "\n",
    "for i in range(customer_order_df['year'].nunique()):\n",
    "    #skip for first year as all will be new customers\n",
    "    if i == 0:\n",
    "        print(f\"Existing Customer Revenue for Prior Year {unique_years[i]-1} : 0\")\n",
    "    else:\n",
    "        # Previous year\n",
    "        revenue_df_pre_year = customer_order_df[customer_order_df['year'] == unique_years[i-1]]\n",
    "        \n",
    "        # Current year\n",
    "        revenue_df_current_year = customer_order_df[customer_order_df['year'] == unique_years[i]]\n",
    "        merged_df = revenue_df_current_year.merge(revenue_df_pre_year, on='customer_email', how='inner')\n",
    "        # print(merged_df)\n",
    "        # net_revenue_y represents a previous year revenue for each existing customer\n",
    "        revenue = (merged_df[merged_df['year_y'].isnull() == False]['net_revenue_y']).sum()\n",
    "        print(f\"Existing Customer Revenue for Prior Year {unique_years[i-1]} : {revenue}\")\n",
    "        "
   ]
  },
  {
   "cell_type": "code",
   "execution_count": null,
   "id": "fb94da89",
   "metadata": {},
   "outputs": [],
   "source": []
  },
  {
   "cell_type": "markdown",
   "id": "a26372ba",
   "metadata": {},
   "source": [
    "### Total Customers Current Year\n",
    "### Total Customers Previous Year"
   ]
  },
  {
   "cell_type": "code",
   "execution_count": 11,
   "id": "9883ca3f",
   "metadata": {},
   "outputs": [
    {
     "name": "stdout",
     "output_type": "stream",
     "text": [
      "\n",
      " Total Customers per year: \n",
      "\n",
      "      customer_email\n",
      "year                \n",
      "2015          231294\n",
      "2016          204646\n",
      "2017          249987\n"
     ]
    }
   ],
   "source": [
    "print(f'\\n Total Customers per year: \\n')\n",
    "print(customer_order_df[['customer_email', 'year']].groupby('year').count())"
   ]
  },
  {
   "cell_type": "code",
   "execution_count": null,
   "id": "88be9bb9",
   "metadata": {},
   "outputs": [],
   "source": []
  },
  {
   "cell_type": "markdown",
   "id": "6d744f89",
   "metadata": {},
   "source": [
    "### New Customers"
   ]
  },
  {
   "cell_type": "code",
   "execution_count": 12,
   "id": "ad606bf2",
   "metadata": {},
   "outputs": [
    {
     "name": "stdout",
     "output_type": "stream",
     "text": [
      "New Customers in Year 2015: 231294\n",
      "New Customers in Year 2016: 145062\n",
      "New Customers in Year 2017: 229028\n"
     ]
    }
   ],
   "source": [
    "unique_years = customer_order_df['year'].unique()\n",
    "    \n",
    "for i in range(customer_order_df['year'].nunique()):\n",
    "    #print(unique_years[i])\n",
    "    #skip for first year as all will be new customers\n",
    "    if i == 0:\n",
    "        customers = customer_order_df[customer_order_df['year'] == unique_years[i]]['customer_email'].count()\n",
    "        print(f\"New Customers in Year {unique_years[i]}: {customers}\")\n",
    "    else:\n",
    "        # Previous year\n",
    "        revenue_df_pre_year = customer_order_df[customer_order_df['year'] == unique_years[i-1]]\n",
    "        # Current year\n",
    "        revenue_df_current_year = customer_order_df[customer_order_df['year'] == unique_years[i]]\n",
    "        merged_df = revenue_df_current_year.merge(revenue_df_pre_year, on='customer_email', how='left')\n",
    "        # print(merged_df)\n",
    "        # net_revenue_x represents a current year new customers which not present in previous year\n",
    "        customers = merged_df[merged_df['year_y'].isnull() == True]['customer_email'].count()\n",
    "        print(f\"New Customers in Year {unique_years[i]}: {customers}\")\n",
    "        "
   ]
  },
  {
   "cell_type": "code",
   "execution_count": 67,
   "id": "cd6f84cb",
   "metadata": {},
   "outputs": [
    {
     "data": {
      "image/png": "[encoded data removed]",
      "text/plain": [
       "<Figure size 504x360 with 1 Axes>"
      ]
     },
     "metadata": {},
     "output_type": "display_data"
    }
   ],
   "source": [
    "# Pie chart for the new customers per year\n",
    "plt.figure(figsize=(7, 5))\n",
    "years=['2015', '2016', '2017']\n",
    "new_customer_count= [231294, 145062, 229028]\n",
    "plt.pie(new_customer_count, labels = years, startangle = 90)\n",
    "plt.legend()\n",
    "plt.show() \n"
   ]
  },
  {
   "cell_type": "code",
   "execution_count": null,
   "id": "f632d398",
   "metadata": {},
   "outputs": [],
   "source": []
  },
  {
   "cell_type": "markdown",
   "id": "024e9363",
   "metadata": {},
   "source": [
    "### Lost Customers"
   ]
  },
  {
   "cell_type": "code",
   "execution_count": 13,
   "id": "2b89a35c",
   "metadata": {},
   "outputs": [
    {
     "name": "stdout",
     "output_type": "stream",
     "text": [
      "Lost Customers in Year 2015: 0\n",
      "Lost Customers in Year 2016: 171710\n",
      "Lost Customers in Year 2017: 183687\n"
     ]
    }
   ],
   "source": [
    "unique_years = customer_order_df['year'].unique()\n",
    "    \n",
    "for i in range(customer_order_df['year'].nunique()):\n",
    "    #print(unique_years[i])\n",
    "    #skip for first year as all will be new customers\n",
    "    if i == 0:\n",
    "        print(f\"Lost Customers in Year {unique_years[i]}: 0\")\n",
    "    else:\n",
    "        # Previous year\n",
    "        revenue_df_pre_year = customer_order_df[customer_order_df['year'] == unique_years[i-1]]\n",
    "        # Current year\n",
    "        revenue_df_current_year = customer_order_df[customer_order_df['year'] == unique_years[i]]\n",
    "        merged_df = revenue_df_pre_year.merge(revenue_df_current_year, on='customer_email', how='left')\n",
    "        # print(merged_df)\n",
    "        # if year_y is null then that customer is not present in current year\n",
    "        customers = merged_df[merged_df['year_y'].isnull() == True]['customer_email'].count()\n",
    "        print(f\"Lost Customers in Year {unique_years[i]}: {customers}\")\n",
    "        "
   ]
  },
  {
   "cell_type": "code",
   "execution_count": 14,
   "id": "6e9fc66c",
   "metadata": {},
   "outputs": [],
   "source": [
    "# to get lost customers for current we might have used this technique too\n",
    "# Previous year Customers - (Total current year Customers - New current year customers)\n",
    "# e.g for year 2017 this would have become\n",
    "# 204646 - (249987 - 229028) = 183687"
   ]
  },
  {
   "cell_type": "markdown",
   "id": "5d119392",
   "metadata": {},
   "source": [
    "Additionally, generate a few unique plots highlighting some information from the dataset. Are there any interesting observations?"
   ]
  },
  {
   "cell_type": "code",
   "execution_count": 15,
   "id": "1a45e9fb",
   "metadata": {},
   "outputs": [
    {
     "name": "stderr",
     "output_type": "stream",
     "text": [
      "/opt/anaconda3/lib/python3.8/site-packages/seaborn/distributions.py:2557: FutureWarning: `distplot` is a deprecated function and will be removed in a future version. Please adapt your code to use either `displot` (a figure-level function with similar flexibility) or `histplot` (an axes-level function for histograms).\n",
      "  warnings.warn(msg, FutureWarning)\n"
     ]
    },
    {
     "data": {
      "text/plain": [
       "<AxesSubplot:xlabel='net_revenue', ylabel='Density'>"
      ]
     },
     "execution_count": 15,
     "metadata": {},
     "output_type": "execute_result"
    },
    {
     "data": {
      "image/png": "[encoded data removed]",
      "text/plain": [
       "<Figure size 1440x576 with 1 Axes>"
      ]
     },
     "metadata": {
      "needs_background": "light"
     },
     "output_type": "display_data"
    }
   ],
   "source": [
    "# Density plot of net revenue\n",
    "\n",
    "plt.figure(figsize=(20, 8))\n",
    "sns.distplot(customer_order_df['net_revenue'],bins=40)"
   ]
  },
  {
   "cell_type": "code",
   "execution_count": 64,
   "id": "2d27719a",
   "metadata": {},
   "outputs": [
    {
     "data": {
      "image/png": "[encoded data removed]",
      "text/plain": [
       "<Figure size 504x360 with 1 Axes>"
      ]
     },
     "metadata": {
      "needs_background": "light"
     },
     "output_type": "display_data"
    }
   ],
   "source": [
    "plt.figure(figsize=(7, 5))\n",
    "years=['2015', '2016', '2017']\n",
    "total_net_revenue= [29036749.19, 25730943.59, 31417495.03]\n",
    "\n",
    "# Bar chart with Year against Net Revenue\n",
    "plt.bar(years, total_net_revenue)\n",
    "  \n",
    "plt.title(\"Bar Chart\")\n",
    "  \n",
    "# Setting the X and Y labels\n",
    "plt.xlabel('Year')\n",
    "plt.ylabel('Net Revenue')\n",
    "  \n",
    "# Adding the legends\n",
    "plt.show()\n",
    "\n"
   ]
  },
  {
   "cell_type": "markdown",
   "id": "1d51959f",
   "metadata": {},
   "source": [
    "#### Interesting observations"
   ]
  },
  {
   "cell_type": "markdown",
   "id": "68685aac",
   "metadata": {},
   "source": [
    "<li> Too many new customers added and lost in year 2017.\n",
    "<li> Existing Customer Growth for Year 2016 and Year 2017 is almost same (20335 & 20611)\n",
    "<li> There is a big difference in between New Customer Revenue in Year 2016: 18245491.01 and New Customer Revenue Year 2017: 28776235.039999995"
   ]
  },
  {
   "cell_type": "markdown",
   "id": "abea44e3",
   "metadata": {},
   "source": [
    "### Thank you!"
   ]
  },
  {
   "cell_type": "code",
   "execution_count": null,
   "id": "2df4efdb",
   "metadata": {},
   "outputs": [],
   "source": []
  }
 ],
 "metadata": {
  "kernelspec": {
   "display_name": "Python 3 (ipykernel)",
   "language": "python",
   "name": "python3"
  },
  "language_info": {
   "codemirror_mode": {
    "name": "ipython",
    "version": 3
   },
   "file_extension": ".py",
   "mimetype": "text/x-python",
   "name": "python",
   "nbconvert_exporter": "python",
   "pygments_lexer": "ipython3",
   "version": "3.8.12"
  }
 },
 "nbformat": 4,
 "nbformat_minor": 5
}
